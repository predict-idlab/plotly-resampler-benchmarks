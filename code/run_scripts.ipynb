{
 "cells": [
  {
   "cell_type": "code",
   "execution_count": null,
   "metadata": {},
   "outputs": [],
   "source": [
    "import time"
   ]
  },
  {
   "cell_type": "code",
   "execution_count": null,
   "metadata": {
    "collapsed": false,
    "pycharm": {
     "name": "#%%\n"
    }
   },
   "outputs": [],
   "source": [
    "traces_search_space = [\n",
    "    0,\n",
    "    1,\n",
    "    2,\n",
    "    3,\n",
    "    5,\n",
    "    6,\n",
    "    7,\n",
    "    8,\n",
    "    9,\n",
    "    10,\n",
    "    15,\n",
    "    20,\n",
    "    30,\n",
    "    40,\n",
    "    50,\n",
    "    60,\n",
    "    70,\n",
    "    80,\n",
    "    90,\n",
    "    100,\n",
    "    120,\n",
    "    140,\n",
    "    160,\n",
    "    180,\n",
    "    200,\n",
    "]\n",
    "\n",
    "N = 20_000\n",
    "N_OUT = 1_000\n",
    "MAX_DURATION_S = 150"
   ]
  },
  {
   "cell_type": "code",
   "execution_count": null,
   "metadata": {
    "collapsed": true,
    "jupyter": {
     "outputs_hidden": true
    },
    "tags": []
   },
   "outputs": [],
   "source": [
    "for index in range(10):\n",
    "    for nb_traces in traces_search_space:\n",
    "        t_start = time.time()\n",
    "        !python test_plotly_resampler.py --index={index} --n={N} --n-out={N_OUT} --nb-traces={nb_traces} --port=9012\n",
    "        if time.time() - t_start > MAX_DURATION_S:\n",
    "            break"
   ]
  },
  {
   "cell_type": "code",
   "execution_count": null,
   "metadata": {
    "collapsed": true,
    "jupyter": {
     "outputs_hidden": true
    },
    "tags": []
   },
   "outputs": [],
   "source": [
    "for index in range(5, 10):\n",
    "    for nb_traces in traces_search_space[:-3]:\n",
    "        t_start = time.time()\n",
    "        !python test_holoviews.py --index={index} --n={N} --n-out={N_OUT} --nb-traces={nb_traces} --port=9012\n",
    "        if time.time() - t_start > MAX_DURATION_S:\n",
    "            break"
   ]
  },
  {
   "cell_type": "code",
   "execution_count": null,
   "metadata": {
    "collapsed": true,
    "jupyter": {
     "outputs_hidden": true
    },
    "tags": []
   },
   "outputs": [],
   "source": [
    "for index in range(10):\n",
    "    for nb_traces in traces_search_space[1:-5]:\n",
    "        t_start = time.time()\n",
    "        !python test_holoviews_rasterize.py --index={index} --n={N} --n-out={N_OUT} --nb-traces={nb_traces} --port=9012\n",
    "        if time.time() - t_start > MAX_DURATION_S:\n",
    "            break"
   ]
  },
  {
   "cell_type": "code",
   "execution_count": null,
   "metadata": {
    "tags": []
   },
   "outputs": [],
   "source": [
    "for index in range(10):\n",
    "    for nb_traces in traces_search_space:\n",
    "        t_start = time.time()\n",
    "        !python test_matplotlib.py --index={index} --n={N} --n-out={N_OUT} --nb-traces={nb_traces} --port=9012\n",
    "        if time.time() - t_start > MAX_DURATION_S:\n",
    "            break"
   ]
  },
  {
   "cell_type": "markdown",
   "metadata": {},
   "source": [
    "---"
   ]
  }
 ],
 "metadata": {
  "interpreter": {
   "hash": "fe5bbf14cb88741083307d8721f83f75c2fee2d2bdcd7288175d635fb854a822"
  },
  "kernelspec": {
   "display_name": "Python 3 (ipykernel)",
   "language": "python",
   "name": "python3"
  },
  "language_info": {
   "codemirror_mode": {
    "name": "ipython",
    "version": 3
   },
   "file_extension": ".py",
   "mimetype": "text/x-python",
   "name": "python",
   "nbconvert_exporter": "python",
   "pygments_lexer": "ipython3",
   "version": "3.8.10"
  }
 },
 "nbformat": 4,
 "nbformat_minor": 4
}

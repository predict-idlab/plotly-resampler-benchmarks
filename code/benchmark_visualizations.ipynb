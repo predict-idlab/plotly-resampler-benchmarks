{
 "cells": [
  {
   "cell_type": "code",
   "execution_count": null,
   "id": "cfd60500-5549-425b-bd6f-4a3bde060212",
   "metadata": {},
   "outputs": [],
   "source": [
    "%load_ext autoreload\n",
    "%autoreload 2"
   ]
  },
  {
   "cell_type": "code",
   "execution_count": null,
   "id": "941de8ef-75da-4f0f-a339-4f4545c4126f",
   "metadata": {},
   "outputs": [],
   "source": [
    "from pathlib import Path\n",
    "\n",
    "import pandas as pd\n",
    "from functional import seq\n",
    "from tqdm.auto import tqdm\n",
    "\n",
    "from utils import process_viztrace_json"
   ]
  },
  {
   "cell_type": "code",
   "execution_count": null,
   "id": "457e7283-2d3b-4939-a19d-27567d4887b8",
   "metadata": {},
   "outputs": [],
   "source": [
    "files = sorted(Path('scripts/benchmark_jsons').glob('*.json'))\n",
    "files[0]"
   ]
  },
  {
   "cell_type": "code",
   "execution_count": null,
   "id": "42c8d7e2-3f7e-4b51-b60a-6cb4780159e6",
   "metadata": {},
   "outputs": [],
   "source": [
    "df_mems = []\n",
    "for file in tqdm(files):\n",
    "    try:\n",
    "        df_mem, df_info = process_viztrace_json(file)\n",
    "        df_mem[[\"toolkit\", \"index\", \"nb_traces\", \"n\", \"n_out\", \"headless\"]] = (\n",
    "            seq(file.name.split(\".\")[0].split(\"__\"))\n",
    "                .map(lambda x: x.split(\"=\")[-1])\n",
    "                .to_list()\n",
    "        )\n",
    "        df_mem[['index', 'nb_traces', 'n', 'n_out']] = df_mem[\n",
    "            ['index', 'nb_traces', 'n', 'n_out']].astype(int)\n",
    "        df_mem.loc[:df_info[df_info.name.str.contains('constructed image')].index[0],\n",
    "        'phase'] = 'image construction'\n",
    "        df_mem.loc[df_info[df_info.name.str.contains('constructed image')].index[0]:,\n",
    "        'phase'] = 'rendering'\n",
    "        df_mems.append(df_mem.reset_index())\n",
    "    except Exception as e:\n",
    "        print(file)\n",
    "        print(e)"
   ]
  },
  {
   "cell_type": "code",
   "execution_count": null,
   "id": "fa84ba74-f9f0-458e-ae7c-4e8e64923ac3",
   "metadata": {},
   "outputs": [],
   "source": [
    "df_mem_tot = pd.concat(df_mems, ignore_index=True)\n",
    "df_mem_tot['args.rss'] /= 1e6\n",
    "df_mem_tot.rename(columns={'args.rss': 'memory (MB)'}, inplace=True)"
   ]
  },
  {
   "cell_type": "code",
   "execution_count": null,
   "id": "486ab3ec-c8a2-4241-8a6a-5c917c6ad238",
   "metadata": {},
   "outputs": [],
   "source": [
    "df_mem_tot.head(3)"
   ]
  },
  {
   "cell_type": "code",
   "execution_count": null,
   "id": "24bfd755-9d4d-4e83-b7d4-f9372879e668",
   "metadata": {},
   "outputs": [],
   "source": [
    "df_mem_viz = (\n",
    "    df_mem_tot.groupby([\"toolkit\", \"index\", \"nb_traces\"])[[\"ts\", \"memory (MB)\"]]\n",
    "        .max()\n",
    "        .reset_index()\n",
    "        # .groupby([\"toolkit\", \"nb_traces\"])[[\"ts\", \"memory (MB)\"]]\n",
    "        # .apply(\n",
    "        #     lambda x: pd.Series(\n",
    "        #         data=x.mean().values.tolist() + (20 * x.std()).values.tolist(),\n",
    "        #         index=(\"mean_\" + x.columns).tolist() + (\"std_\" + x.columns).tolist(),\n",
    "        #     )\n",
    "        # )\n",
    "        .reset_index()\n",
    ")"
   ]
  },
  {
   "cell_type": "code",
   "execution_count": null,
   "id": "7bdbf5c8-bd33-499c-831d-e1c5aa9c267e",
   "metadata": {},
   "outputs": [],
   "source": [
    "import seaborn as sns\n",
    "\n",
    "sns.set_context('talk')"
   ]
  },
  {
   "cell_type": "code",
   "execution_count": null,
   "id": "3903c283-9508-497a-aa89-f964a160e52d",
   "metadata": {},
   "outputs": [],
   "source": [
    "sns.relplot(\n",
    "    data=df_mem_viz,\n",
    "    kind='line',\n",
    "    hue='toolkit',\n",
    "    x='nb_traces',\n",
    "    y='memory (MB)',\n",
    "    height=9,\n",
    "    palette='Set2'\n",
    ")"
   ]
  },
  {
   "cell_type": "code",
   "execution_count": null,
   "id": "7f2ab352-d8a4-42ac-97be-9ff6d37d5cdc",
   "metadata": {},
   "outputs": [],
   "source": [
    "df_mem_viz.head(3)"
   ]
  },
  {
   "cell_type": "code",
   "execution_count": null,
   "id": "15f5fd82-a3f2-4214-a52b-c7f6585d6c3c",
   "metadata": {},
   "outputs": [],
   "source": [
    "df_mem_viz['ts'] = df_mem_viz['ts'].dt.total_seconds()"
   ]
  },
  {
   "cell_type": "code",
   "execution_count": null,
   "id": "69f0cb29-2cd3-4918-b168-ee842a017cbd",
   "metadata": {},
   "outputs": [],
   "source": [
    "g = sns.relplot(\n",
    "    data=df_mem_viz,\n",
    "    kind='line',\n",
    "    hue='toolkit',\n",
    "    x='nb_traces',\n",
    "    y='ts',\n",
    "    height=8,\n",
    "    palette='Set2'\n",
    ")\n",
    "\n",
    "# g.ax.set_yscale('log')"
   ]
  },
  {
   "cell_type": "code",
   "execution_count": null,
   "id": "7340e298-b9a0-4a17-8be7-7cce39724629",
   "metadata": {},
   "outputs": [],
   "source": [
    "# df_mem_viz = (\n",
    "#     df_mem_tot.groupby([\"toolkit\", \"index\", \"nb_traces\"])[[\"ts\", \"memory (MB)\"]]\n",
    "#     .max()\n",
    "#     .reset_index()\n",
    "#     .groupby([\"toolkit\", \"nb_traces\"])[[\"ts\", \"memory (MB)\"]]\n",
    "#     .apply(\n",
    "#         lambda x: pd.Series(\n",
    "#             data=x.mean().values.tolist() + (20 * x.std()).values.tolist(),\n",
    "#             index=(\"mean_\" + x.columns).tolist() + (\"std_\" + x.columns).tolist(),\n",
    "#         )\n",
    "#     )\n",
    "#     .reset_index()\n",
    "# )"
   ]
  },
  {
   "cell_type": "code",
   "execution_count": null,
   "id": "dc4f9200-ed8a-4505-9d54-03482b8789b9",
   "metadata": {},
   "outputs": [],
   "source": []
  }
 ],
 "metadata": {
  "kernelspec": {
   "display_name": "pr-benchmarking",
   "language": "python",
   "name": "pr-benchmarking"
  },
  "language_info": {
   "codemirror_mode": {
    "name": "ipython",
    "version": 3
   },
   "file_extension": ".py",
   "mimetype": "text/x-python",
   "name": "python",
   "nbconvert_exporter": "python",
   "pygments_lexer": "ipython3",
   "version": "3.8.10"
  }
 },
 "nbformat": 4,
 "nbformat_minor": 5
}
